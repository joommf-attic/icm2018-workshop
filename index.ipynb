{
 "cells": [
  {
   "cell_type": "markdown",
   "metadata": {},
   "source": [
    "# Micromagnetics with JOOMMF\n",
    "\n",
    "International Conference on Magnetism 2018, San Francisco, CA, USA, 15 July 2018\n",
    "\n",
    "## Agenda\n",
    "\n",
    "13:30 - 15:00 Introduction to micromagnetics  \n",
    "15:00 - 15:30 Coffee break  \n",
    "15:30 - 17:00 JOOMMF tutorials and exercises\n",
    "\n",
    "## Running Jupyter notebook\n",
    "\n",
    "The Jupyter notebook can be started by executing\n",
    "```\n",
    "jupyter notebook\n",
    "```\n",
    "command in your terminal (command prompt on Windows). A detailed documentation of all Jupyter notebook features can be found at the Project Jupyter [website](http://jupyter.org).\n",
    "\n",
    "## Tutorials \n",
    "\n",
    "The following tutorials are available, and participants are encouraged to work through them during the workshop:\n",
    "\n",
    "- [Tutorial 0 - First notebook](notebooks/00-tutorial-first-notebook.ipynb)\n",
    "- [Tutorial 1 - Geometry](notebooks/01-tutorial-geometry.ipynb)\n",
    "- [Tutorial 2 - Hamiltonian](notebooks/02-tutorial-hamiltonian.ipynb)\n",
    "- [Tutorial 3 - Dynamics](notebooks/03-tutorial-dynamics.ipynb)\n",
    "- [Tutorial 4 - Current induced DW motion](notebooks/04-tutorial-current-induced-dw-motion.ipynb)\n",
    "- [Exercise - DW pair conversion](notebooks/05-exercise-dw-pair-conversion.ipynb)\n",
    "- [Exercise - Magnetic vortex dynamics](notebooks/06-exercise-vortex-dynamics.ipynb)"
   ]
  }
 ],
 "metadata": {
  "kernelspec": {
   "display_name": "Python 3",
   "language": "python",
   "name": "python3"
  },
  "language_info": {
   "codemirror_mode": {
    "name": "ipython",
    "version": 3
   },
   "file_extension": ".py",
   "mimetype": "text/x-python",
   "name": "python",
   "nbconvert_exporter": "python",
   "pygments_lexer": "ipython3",
   "version": "3.6.3"
  }
 },
 "nbformat": 4,
 "nbformat_minor": 2
}
