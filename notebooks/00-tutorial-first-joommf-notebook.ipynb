{
 "cells": [
  {
   "cell_type": "markdown",
   "metadata": {},
   "source": [
    "# Tutorial 0: First JOOMMF notebook\n",
    "\n",
    "The goal of this tutorial is to familiarise users with basics of running JOOMMF simulations in Jupyter notebook. The only thing you need to know for this tutorial is how to execute individual cells: this is done by pressing `Shift` + `Return` (`Return` = `Enter`).\n",
    "\n",
    "## Simple JOOMMF simulation\n",
    "\n",
    "Before we specify and run the simulation, we have to import JOOMMF modules we intend to use."
   ]
  },
  {
   "cell_type": "code",
   "execution_count": null,
   "metadata": {},
   "outputs": [],
   "source": [
    "import oommfc as oc\n",
    "import discretisedfield as df\n",
    "\n",
    "# The following line enables plotting inside the notebook.\n",
    "%matplotlib inline"
   ]
  },
  {
   "cell_type": "markdown",
   "metadata": {},
   "source": [
    "### System\n",
    "\n",
    "The object on which different drivers act on in JOOMMF is called `System`. In order to define the micromagnetic system we intend to simulate, we have to specify:\n",
    "\n",
    "1. Hamiltonian,\n",
    "2. Dynamics equation,\n",
    "3. Magnetisation configuration."
   ]
  },
  {
   "cell_type": "code",
   "execution_count": null,
   "metadata": {},
   "outputs": [],
   "source": [
    "system = oc.System(name=\"first-joommf-simulation\")"
   ]
  },
  {
   "cell_type": "markdown",
   "metadata": {},
   "source": [
    "#### Hamiltonian\n",
    "\n",
    "Hamiltonian for the first JOOMMF simulaton is very simple and contains only:\n",
    "\n",
    "1. exchange,\n",
    "2. demagnetisation,\n",
    "3. Zeeman energy terms.\n",
    "\n",
    "We will apply an external magnetic field in the $x$ direction for the purpose of this demonstration:"
   ]
  },
  {
   "cell_type": "code",
   "execution_count": null,
   "metadata": {},
   "outputs": [],
   "source": [
    "A = 1e-12  # exchange energy constant (J/m)\n",
    "H = (5e6, 0, 0)  # external magnetic field in the x-direction (A/m)\n",
    "system.hamiltonian = oc.Exchange(A=A) + oc.Demag() + oc.Zeeman(H=H)"
   ]
  },
  {
   "cell_type": "markdown",
   "metadata": {},
   "source": [
    "#### Dynamics equation\n",
    "\n",
    "The dynamics equation contains only precession and damping terms:"
   ]
  },
  {
   "cell_type": "code",
   "execution_count": null,
   "metadata": {},
   "outputs": [],
   "source": [
    "gamma = 2.211e5  # gamma parameter (m/As)\n",
    "alpha = 0.2  # Gilbert damping\n",
    "system.dynamics = oc.Precession(gamma=gamma) + oc.Damping(alpha=alpha)"
   ]
  },
  {
   "cell_type": "markdown",
   "metadata": {},
   "source": [
    "#### Initial magnetisation\n",
    "\n",
    "We initialise the system in positive $y$ direction, i.e. (0, 1, 0), which is different from the equlibrium state we expect for the external Zeeman field applied in $x$ direction:"
   ]
  },
  {
   "cell_type": "code",
   "execution_count": null,
   "metadata": {},
   "outputs": [],
   "source": [
    "L = 100e-9  # cubic sample edge length (m)\n",
    "d = 5e-9  # discretisation cell size (m)\n",
    "mesh = oc.Mesh(p1=(0, 0, 0), p2=(L, L, L), cell=(d, d, d))\n",
    "\n",
    "Ms = 8e6  # saturation magnetisation (A/m)\n",
    "system.m = df.Field(mesh, value=(0, 1, 0), norm=Ms)"
   ]
  },
  {
   "cell_type": "markdown",
   "metadata": {},
   "source": [
    "### Inspect the properties of the system\n",
    "\n",
    "We can check the characteristics of the system we defined by asking objects to represent themselves:"
   ]
  },
  {
   "cell_type": "code",
   "execution_count": null,
   "metadata": {},
   "outputs": [],
   "source": [
    "mesh"
   ]
  },
  {
   "cell_type": "code",
   "execution_count": null,
   "metadata": {},
   "outputs": [],
   "source": [
    "system.hamiltonian"
   ]
  },
  {
   "cell_type": "code",
   "execution_count": null,
   "metadata": {},
   "outputs": [],
   "source": [
    "system.dynamics"
   ]
  },
  {
   "cell_type": "markdown",
   "metadata": {},
   "source": [
    "We can also visualise the current magnetisation field:"
   ]
  },
  {
   "cell_type": "code",
   "execution_count": null,
   "metadata": {},
   "outputs": [],
   "source": [
    "system.m.plot_plane(\"z\")"
   ]
  },
  {
   "cell_type": "markdown",
   "metadata": {},
   "source": [
    "### Driving the system\n",
    "\n",
    "After the system object is created, we can minimise its energy (relax it) using the Minimisation Driver (`MinDriver`)."
   ]
  },
  {
   "cell_type": "code",
   "execution_count": null,
   "metadata": {},
   "outputs": [],
   "source": [
    "md = oc.MinDriver()\n",
    "md.drive(system)"
   ]
  },
  {
   "cell_type": "markdown",
   "metadata": {},
   "source": [
    "The system is now relaxed, and we can plot its slice and compute its average magnetisation."
   ]
  },
  {
   "cell_type": "code",
   "execution_count": null,
   "metadata": {},
   "outputs": [],
   "source": [
    "system.m.plot_plane(\"z\")"
   ]
  },
  {
   "cell_type": "code",
   "execution_count": null,
   "metadata": {},
   "outputs": [],
   "source": [
    "system.m.average"
   ]
  },
  {
   "cell_type": "markdown",
   "metadata": {},
   "source": [
    "We can see that the magnetisation is aligned along the $x$ direction, as expected having in mind we applied the external magnetic field in that direction."
   ]
  }
 ],
 "metadata": {
  "anaconda-cloud": {},
  "kernelspec": {
   "display_name": "Python 3",
   "language": "python",
   "name": "python3"
  },
  "language_info": {
   "codemirror_mode": {
    "name": "ipython",
    "version": 3
   },
   "file_extension": ".py",
   "mimetype": "text/x-python",
   "name": "python",
   "nbconvert_exporter": "python",
   "pygments_lexer": "ipython3",
   "version": "3.6.3"
  }
 },
 "nbformat": 4,
 "nbformat_minor": 1
}
