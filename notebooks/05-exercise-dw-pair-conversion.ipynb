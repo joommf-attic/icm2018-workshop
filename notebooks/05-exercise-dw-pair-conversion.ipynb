{
 "cells": [
  {
   "cell_type": "markdown",
   "metadata": {},
   "source": [
    "# Exercise 1: Domain wall pair conversion\n",
    "\n",
    "We want to simulate a domain wall conversion in a two-dimensional thin film sample with:\n",
    "\n",
    "- exchange energy constant $A = 15 \\,\\text{pJ}\\,\\text{m}^{-1}$,\n",
    "- Dzyaloshinskii-Moriya energy constant $D = 3 \\,\\text{mJ}\\,\\text{m}^{-2}$,\n",
    "- uniaxial anisotropy constant $K = 0.5 \\,\\text{MJ}\\,\\text{m}^{-3}$ with $\\hat{\\mathbf{u}} = (0, 0, 1)$ in the out of plane direction,\n",
    "- gyrotropic ratio $\\gamma = 2.211 \\times 10^{5} \\,\\text{m}\\,\\text{A}^{-1}\\,\\text{s}^{-1}$, and\n",
    "- Gilbert damping $\\alpha=0.3$.\n",
    "\n",
    "Please carry out the following steps:\n",
    "\n",
    "1. Create the following geometry with discretisation cell size $(2 \\,\\text{nm}, 2 \\,\\text{nm}, 2 \\,\\text{nm})$.\n",
    "    \n",
    "    <img src=\"figures/dw_pair_conversion_geometry.png\" width=\"400\">  \n",
    "\n",
    "2. Initialise the magnetisation so that when relaxes, a domain pair is present in the narrower part of the geometry.\n",
    "\n",
    "3. Relax the system. Is a domain wall pair contained in the constrained part?\n",
    "\n",
    "4. Apply the spin polarised current in the positive $x$ direction with velocity $\\mathbf{u} = (400, 0, 0) \\,\\text{m}\\,\\text{s}^{-1}$, with $\\beta=0.5$.\n",
    "\n",
    "5. Evolve the system over $0.2 \\,\\text{ns}$. What did you get? [1]\n",
    "\n",
    "#### References\n",
    "\n",
    "[1] Zhou, Y., & Ezawa, M. (2014). A reversible conversion between a skyrmion and a domain-wall pair in a junction geometry. *Nature Communications* **5**, 8. https://doi.org/10.1038/ncomms5652\n",
    "\n",
    "\n",
    "## Solution"
   ]
  },
  {
   "cell_type": "code",
   "execution_count": 1,
   "metadata": {},
   "outputs": [
    {
     "data": {
      "image/png": "[encoded data removed]",
      "text/plain": [
       "<Figure size 432x288 with 2 Axes>"
      ]
     },
     "metadata": {},
     "output_type": "display_data"
    }
   ],
   "source": [
    "import oommfc as oc\n",
    "import discretisedfield as df\n",
    "%matplotlib inline\n",
    "\n",
    "Ms = 5.8e5  # saturation magnetisation (A/m)\n",
    "A = 15e-12  # exchange energy constant (J/)\n",
    "D = 3e-3  # Dzyaloshinkii-Moriya energy constant (J/m**2)\n",
    "K = 0.5e6  # uniaxial anisotropy constant (J/m**3)\n",
    "u = (0, 0, 1)  # easy axis\n",
    "gamma = 2.211e5  # gyromagnetic ratio (m/As)\n",
    "alpha = 0.3  # Gilbert damping\n",
    "\n",
    "system = oc.System(name=\"dw_pair_conversion\")\n",
    "system.hamiltonian = oc.Exchange(A=A) + oc.DMI(D=D, crystalclass=\"Cnv\") + oc.UniaxialAnisotropy(K1=K, u=u)\n",
    "system.dynamics = oc.Precession(gamma=2.211e5) + oc.Damping(alpha=alpha)\n",
    "\n",
    "p1 = (0, 0, 0)\n",
    "p2 = (150e-9, 50e-9, 2e-9)\n",
    "cell = (2e-9, 2e-9, 2e-9)\n",
    "mesh = oc.Mesh(p1=p1, p2=p2, cell=cell)\n",
    "\n",
    "def Ms_fun(pos):\n",
    "    x, y, z = pos\n",
    "    if x < 50e-9 and (y < 15e-9 or y > 35e-9):\n",
    "        return 0\n",
    "    else:\n",
    "        return Ms\n",
    "    \n",
    "def m_init(pos):\n",
    "    x, y, z = pos\n",
    "    if 30e-9 < x < 40e-9:\n",
    "        return (0.1, 0.1, -1)\n",
    "    else:\n",
    "        return (0.1, 0.1, 1)\n",
    "\n",
    "system.m = df.Field(mesh, value=m_init, norm=Ms_fun)\n",
    "\n",
    "system.m.z.plot_plane(\"z\")"
   ]
  },
  {
   "cell_type": "code",
   "execution_count": 2,
   "metadata": {},
   "outputs": [
    {
     "name": "stdout",
     "output_type": "stream",
     "text": [
      "2018/07/15 03:11: Running OOMMF (dw_pair_conversion/dw_pair_conversion.mif) ... (1.9 s)\n"
     ]
    },
    {
     "data": {
      "image/png": "[encoded data removed]",
      "text/plain": [
       "<Figure size 432x288 with 2 Axes>"
      ]
     },
     "metadata": {},
     "output_type": "display_data"
    }
   ],
   "source": [
    "md = oc.MinDriver()\n",
    "md.drive(system)\n",
    "\n",
    "system.m.z.plot_plane(\"z\")"
   ]
  },
  {
   "cell_type": "code",
   "execution_count": 3,
   "metadata": {},
   "outputs": [],
   "source": [
    "ux = 400  # velocity in x direction (m/s)\n",
    "beta = 0.5  # non-adiabatic STT parameter\n",
    "\n",
    "system.dynamics += oc.STT(u=(ux, 0, 0), beta=beta)"
   ]
  },
  {
   "cell_type": "code",
   "execution_count": 4,
   "metadata": {},
   "outputs": [
    {
     "name": "stdout",
     "output_type": "stream",
     "text": [
      "2018/07/15 03:11: Running OOMMF (dw_pair_conversion/dw_pair_conversion.mif) ... (7.2 s)\n"
     ]
    },
    {
     "data": {
      "image/png": "[encoded data removed]",
      "text/plain": [
       "<Figure size 432x288 with 2 Axes>"
      ]
     },
     "metadata": {},
     "output_type": "display_data"
    }
   ],
   "source": [
    "td = oc.TimeDriver()\n",
    "td.drive(system, t=0.2e-9, n=200)\n",
    "\n",
    "system.m.z.plot_plane(\"z\")"
   ]
  }
 ],
 "metadata": {
  "kernelspec": {
   "display_name": "Python 3",
   "language": "python",
   "name": "python3"
  },
  "language_info": {
   "codemirror_mode": {
    "name": "ipython",
    "version": 3
   },
   "file_extension": ".py",
   "mimetype": "text/x-python",
   "name": "python",
   "nbconvert_exporter": "python",
   "pygments_lexer": "ipython3",
   "version": "3.6.3"
  }
 },
 "nbformat": 4,
 "nbformat_minor": 2
}
