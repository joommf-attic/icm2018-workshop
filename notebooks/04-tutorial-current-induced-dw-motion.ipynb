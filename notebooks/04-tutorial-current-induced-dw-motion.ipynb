{
 "cells": [
  {
   "cell_type": "markdown",
   "metadata": {},
   "source": [
    "# Tutorial 4: Current induced domain wall motion\n",
    "\n",
    "In this tutorial we show how spin transfer torque (STT) can be included in micromagnetic simulations. To illustrate that, we will try to move a domain wall pair using spin-polarised current.\n",
    "\n",
    "Let us simulate a two-dimensional sample with length $L = 500 \\,\\text{nm}$, width $w = 20 \\,\\text{nm}$ and discretisation cell $(2.5 \\,\\text{nm}, 2.5 \\,\\text{nm}, 2.5 \\,\\text{nm})$. The material parameters are:\n",
    "\n",
    "- exchange energy constant $A = 15 \\,\\text{pJ}\\,\\text{m}^{-1}$,\n",
    "- Dzyaloshinskii-Moriya energy constant $D = 3 \\,\\text{mJ}\\,\\text{m}^{-2}$,\n",
    "- uniaxial anisotropy constant $K = 0.5 \\,\\text{MJ}\\,\\text{m}^{-3}$ with easy axis $\\mathbf{u}$ in the out of plane direction $(0, 0, 1)$,\n",
    "- gyrotropic ratio $\\gamma = 2.211 \\times 10^{5} \\,\\text{m}\\,\\text{A}^{-1}\\,\\text{s}^{-1}$, and\n",
    "- Gilbert damping $\\alpha=0.3$."
   ]
  },
  {
   "cell_type": "code",
   "execution_count": null,
   "metadata": {},
   "outputs": [],
   "source": [
    "import oommfc as oc\n",
    "import discretisedfield as df\n",
    "%matplotlib inline\n",
    "\n",
    "# Definition of parameters\n",
    "L = 500e-9  # sample length (m)\n",
    "w = 20e-9  # sample width (m)\n",
    "d = 2.5e-9  # discretisation cell size (m)\n",
    "Ms = 5.8e5  # saturation magnetisation (A/m)\n",
    "A = 15e-12  # exchange energy constant (J/)\n",
    "D = 3e-3  # Dzyaloshinkii-Moriya energy constant (J/m**2)\n",
    "K = 0.5e6  # uniaxial anisotropy constant (J/m**3)\n",
    "u = (0, 0, 1)  # easy axis\n",
    "gamma = 2.211e5  # gyromagnetic ratio (m/As)\n",
    "alpha = 0.3  # Gilbert damping\n",
    "\n",
    "# Mesh definition\n",
    "p1 = (0, 0, 0)\n",
    "p2 = (L, w, d)\n",
    "cell = (d, d, d)\n",
    "mesh = oc.Mesh(p1=p1, p2=p2, cell=cell)\n",
    "\n",
    "# Micromagnetic system definition\n",
    "system = oc.System(name=\"domain_wall_pair\")\n",
    "system.hamiltonian = oc.Exchange(A=A) + \\\n",
    "                     oc.DMI(D=D, crystalclass=\"Cnv\") + \\\n",
    "                     oc.UniaxialAnisotropy(K1=K, u=u)\n",
    "system.dynamics = oc.Precession(gamma=gamma) + oc.Damping(alpha=alpha)"
   ]
  },
  {
   "cell_type": "markdown",
   "metadata": {},
   "source": [
    "Because we want to move a DW pair, we need to initialise the magnetisation in an appropriate way before we relax the system."
   ]
  },
  {
   "cell_type": "code",
   "execution_count": null,
   "metadata": {},
   "outputs": [],
   "source": [
    "def m_value(pos):\n",
    "    x, y, z = pos\n",
    "    if 20e-9 < x < 40e-9:\n",
    "        return (0, 0, -1)\n",
    "    else:\n",
    "        return (0, 0, 1)\n",
    "    \n",
    "system.m = df.Field(mesh, value=m_value, norm=Ms)\n",
    "\n",
    "system.m.z.plot_plane(\"z\", figsize=(12, 3))"
   ]
  },
  {
   "cell_type": "markdown",
   "metadata": {},
   "source": [
    "Now, we can relax the magnetisation."
   ]
  },
  {
   "cell_type": "code",
   "execution_count": null,
   "metadata": {},
   "outputs": [],
   "source": [
    "md = oc.MinDriver()\n",
    "md.drive(system)\n",
    "\n",
    "system.m.z.plot_plane(\"z\", figsize=(12, 3))"
   ]
  },
  {
   "cell_type": "markdown",
   "metadata": {},
   "source": [
    "Now we can add the STT term to the dynamics equation."
   ]
  },
  {
   "cell_type": "code",
   "execution_count": null,
   "metadata": {},
   "outputs": [],
   "source": [
    "ux = 400  # velocity in x direction (m/s)\n",
    "beta = 0.5  # non-adiabatic STT parameter\n",
    "\n",
    "system.dynamics += oc.STT(u=(ux, 0, 0), beta=beta)  # please notice the use of `+=` operator"
   ]
  },
  {
   "cell_type": "markdown",
   "metadata": {},
   "source": [
    "And drive the system for $0.5 \\,\\text{ns}$:"
   ]
  },
  {
   "cell_type": "code",
   "execution_count": null,
   "metadata": {},
   "outputs": [],
   "source": [
    "td = oc.TimeDriver()\n",
    "td.drive(system, t=0.5e-9, n=100)\n",
    "\n",
    "system.m.z.plot_plane(\"z\", figsize=(12, 3))"
   ]
  },
  {
   "cell_type": "markdown",
   "metadata": {},
   "source": [
    "We see that the DW pair has moved to the positive $x$ direction."
   ]
  },
  {
   "cell_type": "markdown",
   "metadata": {},
   "source": [
    "## Exercise 1\n",
    "\n",
    "Modify the code below (which is a copy of the example from above) to obtain one domain wall instead of a domain wall pair and move it using the same current."
   ]
  },
  {
   "cell_type": "code",
   "execution_count": null,
   "metadata": {},
   "outputs": [],
   "source": [
    "# Definition of parameters\n",
    "L = 500e-9  # sample length (m)\n",
    "w = 20e-9  # sample width (m)\n",
    "d = 2.5e-9  # discretisation cell size (m)\n",
    "Ms = 5.8e5  # saturation magnetisation (A/m)\n",
    "A = 15e-12  # exchange energy constant (J/)\n",
    "D = 3e-3  # Dzyaloshinkii-Moriya energy constant (J/m**2)\n",
    "K = 0.5e6  # uniaxial anisotropy constant (J/m**3)\n",
    "u = (0, 0, 1)  # easy axis\n",
    "gamma = 2.211e5  # gyromagnetic ratio (m/As)\n",
    "alpha = 0.3  # Gilbert damping\n",
    "\n",
    "# Mesh definition\n",
    "p1 = (0, 0, 0)\n",
    "p2 = (L, w, d)\n",
    "cell = (d, d, d)\n",
    "mesh = oc.Mesh(p1=p1, p2=p2, cell=cell)\n",
    "\n",
    "# Micromagnetic system definition\n",
    "system = oc.System(name=\"domain_wall\")\n",
    "system.hamiltonian = oc.Exchange(A=A) + \\\n",
    "                     oc.DMI(D=D, crystalclass=\"Cnv\") + \\\n",
    "                     oc.UniaxialAnisotropy(K1=K, u=u)\n",
    "system.dynamics = oc.Precession(gamma=gamma) + oc.Damping(alpha=alpha)\n",
    "\n",
    "def m_value(pos):\n",
    "    x, y, z = pos\n",
    "    if 20e-9 < x < 40e-9:\n",
    "        return (0, 0, -1)\n",
    "    else:\n",
    "        return (0, 0, 1)\n",
    "    \n",
    "system.m = df.Field(mesh, value=m_value, norm=Ms)\n",
    "\n",
    "system.m.z.plot_plane(\"z\", figsize=(12, 3))"
   ]
  },
  {
   "cell_type": "code",
   "execution_count": null,
   "metadata": {},
   "outputs": [],
   "source": [
    "md = oc.MinDriver()\n",
    "md.drive(system)\n",
    "\n",
    "system.m.z.plot_plane(\"z\", figsize=(12, 3))"
   ]
  },
  {
   "cell_type": "code",
   "execution_count": null,
   "metadata": {},
   "outputs": [],
   "source": [
    "ux = 400  # velocity in x direction (m/s)\n",
    "beta = 0.5  # non-adiabatic STT parameter\n",
    "\n",
    "system.dynamics += oc.STT(u=(ux, 0, 0), beta=beta)\n",
    "\n",
    "td = oc.TimeDriver()\n",
    "td.drive(system, t=0.5e-9, n=100)\n",
    "\n",
    "system.m.z.plot_plane(\"z\", figsize=(10, 3))"
   ]
  }
 ],
 "metadata": {
  "kernelspec": {
   "display_name": "Python 3",
   "language": "python",
   "name": "python3"
  },
  "language_info": {
   "codemirror_mode": {
    "name": "ipython",
    "version": 3
   },
   "file_extension": ".py",
   "mimetype": "text/x-python",
   "name": "python",
   "nbconvert_exporter": "python",
   "pygments_lexer": "ipython3",
   "version": "3.6.3"
  }
 },
 "nbformat": 4,
 "nbformat_minor": 2
}
