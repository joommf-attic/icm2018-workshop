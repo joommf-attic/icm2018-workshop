{
 "cells": [
  {
   "cell_type": "markdown",
   "metadata": {},
   "source": [
    "# Tutorial 3: Dynamics\n",
    "\n",
    "The dynamics of magnetisation field $\\mathbf{m}$ is governed by the Landau-Lifshitz-Gilbert (LLG) equation\n",
    "\n",
    "$$\\frac{d\\mathbf{m}}{dt} = \\underbrace{-\\gamma_{0}(\\mathbf{m} \\times \\mathbf{H}_\\text{eff})}_\\text{precession} + \\underbrace{\\alpha\\left(\\mathbf{m} \\times \\frac{d\\mathbf{m}}{dt}\\right)}_\\text{damping},$$\n",
    "\n",
    "where $\\gamma_{0}$ is the gyromagnetic ratio, $\\alpha$ is the Gilbert damping, and $\\mathbf{H}_\\text{eff}$ is the effective field. It consists of two terms: precession and damping. In this tutorial, we will explore some basic properties of this equation to understand how to define it in simulations.\n",
    "\n",
    "We will study the simplest \"zero-dimensional\" case - macrospin. In the first step, after we import necessary modules (`oommfc` and `discretisedfield`), we create the mesh which consists of a single finite cell."
   ]
  },
  {
   "cell_type": "code",
   "execution_count": null,
   "metadata": {},
   "outputs": [],
   "source": [
    "import oommfc as oc\n",
    "import discretisedfield as df\n",
    "%matplotlib inline\n",
    "\n",
    "# Define a macrospin mesh (i.e. one discretisation cell).\n",
    "p1 = (0, 0, 0)  # first point of the mesh domain (m)\n",
    "p2 = (1e-9, 1e-9, 1e-9)  # second point of the mesh domain (m)\n",
    "cell = (1e-9, 1e-9, 1e-9)  # discretisation cell size (m)\n",
    "mesh = oc.Mesh(p1=p1, p2=p2, cell=cell)"
   ]
  },
  {
   "cell_type": "markdown",
   "metadata": {},
   "source": [
    "Now, we can create a micromagnetic system object."
   ]
  },
  {
   "cell_type": "code",
   "execution_count": null,
   "metadata": {},
   "outputs": [],
   "source": [
    "system = oc.System(name=\"macrospin\")"
   ]
  },
  {
   "cell_type": "markdown",
   "metadata": {},
   "source": [
    "Let us assume we have a simple Hamiltonian which consists of only Zeeman energy term\n",
    "\n",
    "$$w = -\\mu_{0}M_\\text{s}\\mathbf{m}\\cdot\\mathbf{H},$$\n",
    "\n",
    "where $M_\\text{s}$ is the saturation magnetisation, $\\mu_{0}$ is the magnetic constant, and $\\mathbf{H}$ is the external magnetic field. We apply the external magnetic field with magnitude $H = 2 \\times 10^{6} \\,\\text{A}\\,\\text{m}^{-1}$ in the positive $z$ direction."
   ]
  },
  {
   "cell_type": "code",
   "execution_count": null,
   "metadata": {},
   "outputs": [],
   "source": [
    "H = (0, 0, 2e6)  # external magnetic field (A/m)\n",
    "system.hamiltonian = oc.Zeeman(H=H)"
   ]
  },
  {
   "cell_type": "markdown",
   "metadata": {},
   "source": [
    "In the next step we can define the system's dynamics. Let us assume we have $\\gamma_{0} = 2.211 \\times 10^{5} \\,\\text{m}\\,\\text{A}^{-1}\\,\\text{s}^{-1}$ and $\\alpha=0.1$."
   ]
  },
  {
   "cell_type": "code",
   "execution_count": null,
   "metadata": {},
   "outputs": [],
   "source": [
    "gamma = 2.211e5  # gyromagnetic ratio (m/As)\n",
    "alpha = 0.1  # Gilbert damping\n",
    "\n",
    "system.dynamics = oc.Precession(gamma=gamma) + oc.Damping(alpha=alpha)"
   ]
  },
  {
   "cell_type": "markdown",
   "metadata": {},
   "source": [
    "To check what is our dynamics equation:"
   ]
  },
  {
   "cell_type": "code",
   "execution_count": null,
   "metadata": {},
   "outputs": [],
   "source": [
    "system.dynamics"
   ]
  },
  {
   "cell_type": "markdown",
   "metadata": {},
   "source": [
    "Before we start running time evolution simulations, we need to initialise the magnetisation. In this case, our magnetisation is pointing in the positive $x$ direction with $M_\\text{s} = 8 \\times 10^{6} \\,\\text{A}\\,\\text{m}^{-1}$. The magnetisation is defined using `Field` class from the `discretisedfield` package we imported earlier."
   ]
  },
  {
   "cell_type": "code",
   "execution_count": null,
   "metadata": {},
   "outputs": [],
   "source": [
    "initial_m = (1, 0, 0)  # vector in x direction\n",
    "Ms = 8e6  # magnetisation saturation (A/m)\n",
    "\n",
    "system.m = df.Field(mesh, value=initial_m, norm=Ms)"
   ]
  },
  {
   "cell_type": "markdown",
   "metadata": {},
   "source": [
    "Now, we can run the time evolution using `TimeDriver` for $t=0.1 \\,\\text{ns}$ and save the magnetisation configuration in $n=200$ steps."
   ]
  },
  {
   "cell_type": "code",
   "execution_count": null,
   "metadata": {},
   "outputs": [],
   "source": [
    "td = oc.TimeDriver()\n",
    "\n",
    "td.drive(system, t=0.1e-9, n=200)"
   ]
  },
  {
   "cell_type": "markdown",
   "metadata": {},
   "source": [
    "How different system parameters vary with time, we can inspect by showing the system's datatable."
   ]
  },
  {
   "cell_type": "code",
   "execution_count": null,
   "metadata": {},
   "outputs": [],
   "source": [
    "system.dt"
   ]
  },
  {
   "cell_type": "markdown",
   "metadata": {},
   "source": [
    "However, in our case it is much more informative if we plot the time evolution of magnetisation $z$ component $m_{z}(t)$."
   ]
  },
  {
   "cell_type": "code",
   "execution_count": null,
   "metadata": {},
   "outputs": [],
   "source": [
    "system.dt.plot(\"t\", \"mz\");"
   ]
  },
  {
   "cell_type": "markdown",
   "metadata": {},
   "source": [
    "Similarly, we can plot all three magnetisation components"
   ]
  },
  {
   "cell_type": "code",
   "execution_count": null,
   "metadata": {},
   "outputs": [],
   "source": [
    "system.dt.plot(\"t\", [\"mx\", \"my\", \"mz\"])"
   ]
  },
  {
   "cell_type": "markdown",
   "metadata": {},
   "source": [
    "We can see that after some time the macrospin aligns parallel to the external magnetic field in the $z$ direction."
   ]
  },
  {
   "cell_type": "markdown",
   "metadata": {},
   "source": [
    "### Exercise 1\n",
    "\n",
    "By looking at the previous example, explore the magnetisation dynamics for $\\alpha=0.005$ in the following code cell."
   ]
  },
  {
   "cell_type": "code",
   "execution_count": null,
   "metadata": {},
   "outputs": [],
   "source": [
    "# insert missing code here\n",
    "\n",
    "system.m = df.Field(mesh, value=initial_m, norm=Ms)\n",
    "\n",
    "td.drive(system, t=0.1e-9, n=200)\n",
    "\n",
    "system.dt.plot(\"t\", [\"mx\", \"my\", \"mz\"]);"
   ]
  },
  {
   "cell_type": "markdown",
   "metadata": {},
   "source": [
    "### Exercise 2\n",
    "\n",
    "Repeat the simulation with $\\alpha=0.1$ and `H = (0, 0, -2e6)`."
   ]
  },
  {
   "cell_type": "code",
   "execution_count": null,
   "metadata": {},
   "outputs": [],
   "source": [
    "# insert missing code here\n",
    "\n",
    "system.m = df.Field(mesh, value=initial_m, norm=Ms)\n",
    "\n",
    "td.drive(system, t=0.1e-9, n=200)\n",
    "\n",
    "system.dt.plot(\"t\", [\"mx\", \"my\", \"mz\"]);"
   ]
  },
  {
   "cell_type": "markdown",
   "metadata": {},
   "source": [
    "### Exercise 3\n",
    "\n",
    "Keep using $\\alpha=0.1$. Change the field from `H = (0, 0, -2e6)` to `H = (0, -1.41e6, -1.41e6)`, and plot\n",
    "$m_x(t)$, $m_y(t)$ and $m_z(t)$ as above. Can you explain the (initially non-intuitive) output?"
   ]
  },
  {
   "cell_type": "code",
   "execution_count": null,
   "metadata": {},
   "outputs": [],
   "source": [
    "# insert missing code here\n",
    "\n",
    "system.m = df.Field(mesh, value=initial_m, norm=Ms)\n",
    "\n",
    "td.drive(system, t=0.1e-9, n=200)\n",
    "\n",
    "system.dt.plot(\"t\", [\"mx\", \"my\", \"mz\"]);"
   ]
  }
 ],
 "metadata": {
  "kernelspec": {
   "display_name": "Python 3",
   "language": "python",
   "name": "python3"
  },
  "language_info": {
   "codemirror_mode": {
    "name": "ipython",
    "version": 3
   },
   "file_extension": ".py",
   "mimetype": "text/x-python",
   "name": "python",
   "nbconvert_exporter": "python",
   "pygments_lexer": "ipython3",
   "version": "3.6.3"
  }
 },
 "nbformat": 4,
 "nbformat_minor": 2
}
