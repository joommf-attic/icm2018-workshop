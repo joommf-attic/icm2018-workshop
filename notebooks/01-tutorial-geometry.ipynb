{
 "cells": [
  {
   "cell_type": "markdown",
   "metadata": {},
   "source": [
    "# Tutorial 1: Geometry and magnetisation\n",
    "\n",
    "In this tutorial we explore how geometries and magnetisation states can be specified. The package we use to define finite difference meshes and fields is called `discretisedfield` and we have to import it before we start."
   ]
  },
  {
   "cell_type": "code",
   "execution_count": null,
   "metadata": {},
   "outputs": [],
   "source": [
    "import discretisedfield as df\n",
    "\n",
    "# The following line enables plotting inside the notebook.\n",
    "%matplotlib inline"
   ]
  },
  {
   "cell_type": "markdown",
   "metadata": {},
   "source": [
    "## Mesh\n",
    "\n",
    "Let us say that we need to define a nanocube mesh with edge length $L=100\\,\\text{nm}$ and discretisation cell $(d, d, d)$, with $d=10 \\,\\text{nm}$. For that we need to define two points $p_{1}$ and $p_{2}$ between which the mesh spans and pass them (together with the discretisation cell) to the `Mesh` class:"
   ]
  },
  {
   "cell_type": "code",
   "execution_count": null,
   "metadata": {},
   "outputs": [],
   "source": [
    "L = 100e-9  # edge length (m)\n",
    "d = 10e-9  # cell size (m)\n",
    "\n",
    "p1 = (0, 0, 0)  # first point of the cuboid containing simulation geometry\n",
    "p2 = (L, L, L)  # second point\n",
    "cell = (d, d, d)  # discretisation cell\n",
    "\n",
    "mesh = df.Mesh(p1=p1, p2=p2, cell=cell)  # mesh definition"
   ]
  },
  {
   "cell_type": "markdown",
   "metadata": {},
   "source": [
    "We can then inspect some basic parameters of the mesh:\n",
    "\n",
    "### Edge length:"
   ]
  },
  {
   "cell_type": "code",
   "execution_count": null,
   "metadata": {},
   "outputs": [],
   "source": [
    "mesh.l  # edge length"
   ]
  },
  {
   "cell_type": "markdown",
   "metadata": {},
   "source": [
    "### Number of discretisation cells in all three directions:"
   ]
  },
  {
   "cell_type": "code",
   "execution_count": null,
   "metadata": {},
   "outputs": [],
   "source": [
    "mesh.n  # number of cells "
   ]
  },
  {
   "cell_type": "markdown",
   "metadata": {},
   "source": [
    "### Minimum mesh domain coordinate:"
   ]
  },
  {
   "cell_type": "code",
   "execution_count": null,
   "metadata": {},
   "outputs": [],
   "source": [
    "mesh.pmin  # minimum mesh domain coordinate"
   ]
  },
  {
   "cell_type": "markdown",
   "metadata": {},
   "source": [
    "### Maximum mesh domain coordinate:"
   ]
  },
  {
   "cell_type": "code",
   "execution_count": null,
   "metadata": {},
   "outputs": [],
   "source": [
    "mesh.pmax  # maximum mesh domain coordinate"
   ]
  },
  {
   "cell_type": "markdown",
   "metadata": {},
   "source": [
    "### Visualise the mesh domain and a discretisation cell:"
   ]
  },
  {
   "cell_type": "code",
   "execution_count": null,
   "metadata": {},
   "outputs": [],
   "source": [
    "mesh"
   ]
  },
  {
   "cell_type": "markdown",
   "metadata": {},
   "source": [
    "## Field\n",
    "\n",
    "After we defined a mesh, we can define different finite difference fields. For that, we use `Field` class. We need to provide:\n",
    "\n",
    "1. Mesh,\n",
    "2. Dimension of the data values,\n",
    "3. Value of the field.\n",
    "\n",
    "Let us define a 3D-vector field (`dim=3`) that is uniform in the $(1, 0, 0)$ direction."
   ]
  },
  {
   "cell_type": "code",
   "execution_count": null,
   "metadata": {},
   "outputs": [],
   "source": [
    "m = df.Field(mesh, dim=3, value=(1, 0, 0))"
   ]
  },
  {
   "cell_type": "markdown",
   "metadata": {},
   "source": [
    "A simple slice visualisation of the mesh in the $z$ direction at $L/2$ is:"
   ]
  },
  {
   "cell_type": "code",
   "execution_count": null,
   "metadata": {},
   "outputs": [],
   "source": [
    "m.plot_plane(z=50e-9)"
   ]
  },
  {
   "cell_type": "markdown",
   "metadata": {},
   "source": [
    "### Spatially varying field\n",
    "\n",
    "When we defined a uniform vector field, we used a tuple `(1, 0, 0)` to define its value. However, we can also provide a Python function if we want to define a non-uniform field. This function takes the position in the mesh as input, and returns a value that the field should have at that point:"
   ]
  },
  {
   "cell_type": "code",
   "execution_count": null,
   "metadata": {},
   "outputs": [],
   "source": [
    "def m_value(pos):\n",
    "    x, y, z = pos  # unpack position into individual components\n",
    "    if x > L/5:\n",
    "        return (1, 0, 0)\n",
    "    else:\n",
    "        return (-1, 1, 0)\n",
    "    \n",
    "m = df.Field(mesh, dim=3, value=m_value)\n",
    "\n",
    "m.plot_plane(\"z\")"
   ]
  },
  {
   "cell_type": "markdown",
   "metadata": {},
   "source": [
    "The field object can be treated as a function - if we pass a position tuple to the function, it will return the vector value of the field at that location:"
   ]
  },
  {
   "cell_type": "code",
   "execution_count": null,
   "metadata": {},
   "outputs": [],
   "source": [
    "point = (0, 0, 0)\n",
    "m(point)"
   ]
  },
  {
   "cell_type": "markdown",
   "metadata": {},
   "source": [
    "In micromagnetics, the saturation magnetisation $M_\\mathrm{s}$ is typically constant (at least for each position). The `Field` constructor accepts an additional parameter `norm` which we can use for that:"
   ]
  },
  {
   "cell_type": "code",
   "execution_count": null,
   "metadata": {},
   "outputs": [],
   "source": [
    "Ms = 8e6  # saturation magnetisation (A/m)\n",
    "m = df.Field(mesh, dim=3, value=m_value, norm=Ms)\n",
    "\n",
    "m((50e-9, 0, 0))"
   ]
  },
  {
   "cell_type": "markdown",
   "metadata": {},
   "source": [
    "### Spatially varying $M_\\mathrm{s}$\n",
    "\n",
    "By defining different norms, we can specify different geometries, so that $M_\\text{s}=0$ outside the mesh. For instance, let us assume we want to define a sphere of radius $L/2$ and magnetise it in the negative $y$ direction."
   ]
  },
  {
   "cell_type": "code",
   "execution_count": null,
   "metadata": {},
   "outputs": [],
   "source": [
    "mesh = df.Mesh(p1=(-L/2, -L/2, -L/2), p2=(L/2, L/2, L/2), cell=(d, d, d))\n",
    "\n",
    "def Ms_value(pos):\n",
    "    x, y, z = pos\n",
    "    if (x**2 + y**2 + z**2)**0.5 < L/2:\n",
    "        return Ms\n",
    "    else:\n",
    "        return 0\n",
    "\n",
    "m = df.Field(mesh, dim=3, value=(0, -1, 0), norm=Ms_value)\n",
    "\n",
    "m.plot_plane(z=0)"
   ]
  },
  {
   "cell_type": "markdown",
   "metadata": {},
   "source": [
    "## Exercise 1\n",
    "\n",
    "**a)** The code in the next cell defines a thin film of thickness $t$ in the $xy$ plane. Extend it to define the disk geometry of thickness $t = 10 \\,\\text{nm}$ and diameter $d = 120 \\,\\text{nm}$. The saturation magnetisation $M_\\mathrm{s} = 10^7\\mathrm{A/m}$. The disk is centred around the origin (0, 0, 0). The magnetisation is $\\mathbf{m} = (1, 0, 0)$ at all points."
   ]
  },
  {
   "cell_type": "code",
   "execution_count": null,
   "metadata": {},
   "outputs": [],
   "source": [
    "t = 10e-9  # thickness (m)\n",
    "d = 120e-9  # diameter (m)\n",
    "cell = (5e-9, 5e-9, 5e-9)  # discretisation cell size (m)\n",
    "Ms = 1e7  # saturation magnetisation (A/m)\n",
    "\n",
    "mesh = df.Mesh(p1=(-d/2, -d/2, -t/2), p2=(d/2, d/2, t/2), cell=cell)\n",
    "\n",
    "def Ms_value(pos):\n",
    "    x, y, z = pos\n",
    "    # insert missing code here\n",
    "    return Ms\n",
    "   \n",
    "m = df.Field(mesh, value=(1, 0, 0), norm=Ms_value)\n",
    "\n",
    "m.plot_plane(\"z\")"
   ]
  },
  {
   "cell_type": "markdown",
   "metadata": {},
   "source": [
    "**b)** Extend the previous example in the next cell so that the magnetisation is:\n",
    "\n",
    "$$\\mathbf{m} = \\begin{cases} (-1, 0, 0) & \\text{for } y \\le 0 \\\\ (1, 0, 0) & \\text{for } y > 0 \\end{cases}$$\n",
    "\n",
    "with saturation magnetisation $10^{7} \\,\\text{A}\\,\\text{m}^{-1}$."
   ]
  },
  {
   "cell_type": "code",
   "execution_count": null,
   "metadata": {},
   "outputs": [],
   "source": [
    "t = 10e-9  # thickness (m)\n",
    "d = 120e-9  # diameter (m)\n",
    "cell = (5e-9, 5e-9, 5e-9)  # discretisation cell size (m)\n",
    "Ms = 1e7  # saturation magnetisation (A/m)\n",
    "\n",
    "mesh = df.Mesh(p1=(-d/2, -d/2, -t/2), p2=(d/2, d/2, t/2), cell=cell)\n",
    "\n",
    "def Ms_value(pos):\n",
    "    x, y, z = pos\n",
    "    # Copy code from exercise 1a.\n",
    "    return Ms\n",
    "    \n",
    "def m_value(pos):\n",
    "    x, y, z = pos\n",
    "    # Insert missing code here to get the right magnetisation.\n",
    "    return (1, 0, 0)\n",
    "    \n",
    "m = df.Field(mesh, value=m_value, norm=Ms_value)\n",
    "\n",
    "m.plot_plane(\"z\")"
   ]
  },
  {
   "cell_type": "markdown",
   "metadata": {},
   "source": [
    "## Exercise 2\n",
    "\n",
    "Extend the code in the following cell to define the following geometry with $10\\,\\text{nm}$ thickness:\n",
    "\n",
    "   <img src=\"figures/geometry_exercise2.png\" width=\"400\">  \n",
    "\n",
    "The magnetisation saturation is $8 \\times 10^{6} \\,\\text{A}\\,\\text{m}^{-1}$ and the magnetisation direction is as shown in the figure."
   ]
  },
  {
   "cell_type": "code",
   "execution_count": null,
   "metadata": {},
   "outputs": [],
   "source": [
    "cell = (5e-9, 5e-9, 5e-9)  # discretisation cell size (m)\n",
    "Ms = 8e6  # saturation magnetisation (A/m)\n",
    "\n",
    "mesh = df.Mesh(p1=(0, 0, 0), p2=(100e-9, 50e-9, 10e-9), cell=cell)\n",
    "\n",
    "def Ms_value(pos):\n",
    "    x, y, z = pos\n",
    "    # Insert missing code here to get the right shape of geometry.\n",
    "    return Ms\n",
    "    \n",
    "def m_value(pos):\n",
    "    x, y, z = pos\n",
    "    # Insert missing code here to get the initial magnetisation.\n",
    "    return (1, 1, 1)\n",
    "    \n",
    "m = df.Field(mesh, value=m_value, norm=Ms_value)\n",
    "\n",
    "m.plot_plane(\"z\")"
   ]
  }
 ],
 "metadata": {
  "kernelspec": {
   "display_name": "Python 3",
   "language": "python",
   "name": "python3"
  },
  "language_info": {
   "codemirror_mode": {
    "name": "ipython",
    "version": 3
   },
   "file_extension": ".py",
   "mimetype": "text/x-python",
   "name": "python",
   "nbconvert_exporter": "python",
   "pygments_lexer": "ipython3",
   "version": "3.6.3"
  }
 },
 "nbformat": 4,
 "nbformat_minor": 2
}
