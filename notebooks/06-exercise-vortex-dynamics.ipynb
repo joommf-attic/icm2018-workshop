{
 "cells": [
  {
   "cell_type": "markdown",
   "metadata": {},
   "source": [
    "# Exercise 2: Vortex dynamics\n",
    "\n",
    "We want to simulate vortex dynamics in a two-dimensional disk sample with $d=100 \\,\\text{nm}$ diameter and $5\\,\\text{nm}$ thickness with:\n",
    "\n",
    "- magnetisation saturation $M_\\text{s} = 8 \\times 10^{5} \\,\\text{A}\\,\\text{m}^{-1}$,\n",
    "- exchange energy constant $A = 13 \\,\\text{pJ}\\,\\text{m}^{-1}$,\n",
    "- gyrotropic ratio $\\gamma = 2.211 \\times 10^{5} \\,\\text{m}\\,\\text{A}^{-1}\\,\\text{s}^{-1}$, and\n",
    "- Gilbert damping $\\alpha=0.2$.\n",
    "\n",
    "Please carry out the following steps:\n",
    "\n",
    "1. Initialise the system so that $(m_{x}, m_{y}, m_{z}) = (-Ay, Ax, 10)$, where $A = 10^{9}\\,\\text{m}^{-1}$.\n",
    "2. Minimise the system's energy. What state did you obtain?\n",
    "3. Apply an external magnetic field of $H = 10^{4} \\,\\text{A}\\,\\text{m}^{-1}$ in the positive $x$ direction and relax the system. Did the vortex core move in the positive $y$ direction?\n",
    "4. Turn off an external magnetic field and simulate the vortex dynamics for $t = 5 \\,\\text{ns}$ and save magnetisation in $n = 500$ steps. Plot all three components of magnetisation as a function of time.\n",
    "\n",
    "## Solution"
   ]
  },
  {
   "cell_type": "code",
   "execution_count": null,
   "metadata": {},
   "outputs": [],
   "source": []
  }
 ],
 "metadata": {
  "kernelspec": {
   "display_name": "Python 3",
   "language": "python",
   "name": "python3"
  },
  "language_info": {
   "codemirror_mode": {
    "name": "ipython",
    "version": 3
   },
   "file_extension": ".py",
   "mimetype": "text/x-python",
   "name": "python",
   "nbconvert_exporter": "python",
   "pygments_lexer": "ipython3",
   "version": "3.6.3"
  }
 },
 "nbformat": 4,
 "nbformat_minor": 2
}
